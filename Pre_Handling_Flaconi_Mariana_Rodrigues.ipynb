{
 "cells": [
  {
   "cell_type": "code",
   "execution_count": 1,
   "id": "58893b04",
   "metadata": {},
   "outputs": [],
   "source": [
    "import pandas as pd"
   ]
  },
  {
   "cell_type": "code",
   "execution_count": 2,
   "id": "98bc0845",
   "metadata": {},
   "outputs": [
    {
     "data": {
      "text/html": [
       "<div>\n",
       "<style scoped>\n",
       "    .dataframe tbody tr th:only-of-type {\n",
       "        vertical-align: middle;\n",
       "    }\n",
       "\n",
       "    .dataframe tbody tr th {\n",
       "        vertical-align: top;\n",
       "    }\n",
       "\n",
       "    .dataframe thead th {\n",
       "        text-align: right;\n",
       "    }\n",
       "</style>\n",
       "<table border=\"1\" class=\"dataframe\">\n",
       "  <thead>\n",
       "    <tr style=\"text-align: right;\">\n",
       "      <th></th>\n",
       "      <th>ORDER_WEEK</th>\n",
       "      <th>MARKETING_CHANNEL</th>\n",
       "      <th>NEW_CUSTOMER</th>\n",
       "      <th>ORDERS</th>\n",
       "      <th>REVENUE</th>\n",
       "      <th>MARKETING_COST</th>\n",
       "      <th>MARGIN</th>\n",
       "      <th>VISITS</th>\n",
       "    </tr>\n",
       "  </thead>\n",
       "  <tbody>\n",
       "    <tr>\n",
       "      <th>0</th>\n",
       "      <td>01.01.19</td>\n",
       "      <td>Affiliate</td>\n",
       "      <td>False</td>\n",
       "      <td>189.2</td>\n",
       "      <td>9330.7</td>\n",
       "      <td>432.388</td>\n",
       "      <td>1276.803</td>\n",
       "      <td>2451</td>\n",
       "    </tr>\n",
       "    <tr>\n",
       "      <th>1</th>\n",
       "      <td>01.01.19</td>\n",
       "      <td>Affiliate</td>\n",
       "      <td>True</td>\n",
       "      <td>134.6</td>\n",
       "      <td>4986.0</td>\n",
       "      <td>534.995</td>\n",
       "      <td>8.567</td>\n",
       "      <td>2451</td>\n",
       "    </tr>\n",
       "    <tr>\n",
       "      <th>2</th>\n",
       "      <td>01.01.19</td>\n",
       "      <td>CRM</td>\n",
       "      <td>False</td>\n",
       "      <td>300.3</td>\n",
       "      <td>15593.4</td>\n",
       "      <td>131.634</td>\n",
       "      <td>3244.051</td>\n",
       "      <td>9307</td>\n",
       "    </tr>\n",
       "    <tr>\n",
       "      <th>3</th>\n",
       "      <td>01.01.19</td>\n",
       "      <td>CRM</td>\n",
       "      <td>True</td>\n",
       "      <td>41.5</td>\n",
       "      <td>2068.3</td>\n",
       "      <td>101.894</td>\n",
       "      <td>341.079</td>\n",
       "      <td>9307</td>\n",
       "    </tr>\n",
       "    <tr>\n",
       "      <th>4</th>\n",
       "      <td>01.01.19</td>\n",
       "      <td>Direkteingabe</td>\n",
       "      <td>False</td>\n",
       "      <td>569.3</td>\n",
       "      <td>30309.3</td>\n",
       "      <td>0.000</td>\n",
       "      <td>5650.706</td>\n",
       "      <td>25306</td>\n",
       "    </tr>\n",
       "  </tbody>\n",
       "</table>\n",
       "</div>"
      ],
      "text/plain": [
       "  ORDER_WEEK MARKETING_CHANNEL  NEW_CUSTOMER  ORDERS  REVENUE  MARKETING_COST  \\\n",
       "0   01.01.19         Affiliate         False   189.2   9330.7         432.388   \n",
       "1   01.01.19         Affiliate          True   134.6   4986.0         534.995   \n",
       "2   01.01.19               CRM         False   300.3  15593.4         131.634   \n",
       "3   01.01.19               CRM          True    41.5   2068.3         101.894   \n",
       "4   01.01.19     Direkteingabe         False   569.3  30309.3           0.000   \n",
       "\n",
       "     MARGIN  VISITS  \n",
       "0  1276.803    2451  \n",
       "1     8.567    2451  \n",
       "2  3244.051    9307  \n",
       "3   341.079    9307  \n",
       "4  5650.706   25306  "
      ]
     },
     "execution_count": 2,
     "metadata": {},
     "output_type": "execute_result"
    }
   ],
   "source": [
    "# import the data. I merged both tabs from the original file, \"Sales\" and \"Traffic\"\n",
    "raw_data = pd.read_csv('flaconi_test.csv')\n",
    "raw_data.head()"
   ]
  },
  {
   "cell_type": "code",
   "execution_count": 3,
   "id": "b9193df9",
   "metadata": {},
   "outputs": [
    {
     "name": "stdout",
     "output_type": "stream",
     "text": [
      "<class 'pandas.core.frame.DataFrame'>\n",
      "RangeIndex: 2771 entries, 0 to 2770\n",
      "Data columns (total 8 columns):\n",
      " #   Column             Non-Null Count  Dtype  \n",
      "---  ------             --------------  -----  \n",
      " 0   ORDER_WEEK         2771 non-null   object \n",
      " 1   MARKETING_CHANNEL  2771 non-null   object \n",
      " 2   NEW_CUSTOMER       2771 non-null   bool   \n",
      " 3   ORDERS             2771 non-null   float64\n",
      " 4   REVENUE            2771 non-null   float64\n",
      " 5   MARKETING_COST     2771 non-null   float64\n",
      " 6   MARGIN             2771 non-null   float64\n",
      " 7   VISITS             2771 non-null   int64  \n",
      "dtypes: bool(1), float64(4), int64(1), object(2)\n",
      "memory usage: 154.4+ KB\n"
     ]
    }
   ],
   "source": [
    "# check the type of data for each column\n",
    "raw_data.info()"
   ]
  },
  {
   "cell_type": "code",
   "execution_count": 4,
   "id": "5b290f8c",
   "metadata": {},
   "outputs": [],
   "source": [
    "# date column type is incorrect, we need to change to date instead of object\n",
    "# first make a copy of the original file\n",
    "df = raw_data\n",
    "# transform the date column into a date format\n",
    "df['ORDER_WEEK'] = pd.to_datetime(df['ORDER_WEEK'], format='%d.%m.%y')"
   ]
  },
  {
   "cell_type": "code",
   "execution_count": 5,
   "id": "a7a005c6",
   "metadata": {},
   "outputs": [],
   "source": [
    "# create different columns for year and week number\n",
    "df['year'] = df['ORDER_WEEK'].dt.year\n",
    "df['week_number'] = df['ORDER_WEEK'].dt.isocalendar().week\n",
    "#concatenate the year and the week number into one single column\n",
    "df['year_week'] = df['year'].astype(str) + '-W' + df['week_number'].astype(str)\n",
    "#sort the columns based on the week and year\n",
    "weekly_counts = df['year_week'].value_counts().sort_index()\n"
   ]
  },
  {
   "cell_type": "code",
   "execution_count": 6,
   "id": "5d5137b5",
   "metadata": {},
   "outputs": [
    {
     "data": {
      "text/plain": [
       "ORDER_WEEK           0\n",
       "MARKETING_CHANNEL    0\n",
       "NEW_CUSTOMER         0\n",
       "ORDERS               0\n",
       "REVENUE              0\n",
       "MARKETING_COST       0\n",
       "MARGIN               0\n",
       "VISITS               0\n",
       "year                 0\n",
       "week_number          0\n",
       "year_week            0\n",
       "dtype: int64"
      ]
     },
     "execution_count": 6,
     "metadata": {},
     "output_type": "execute_result"
    }
   ],
   "source": [
    "# checking for missing values\n",
    "df.isna().sum()"
   ]
  },
  {
   "cell_type": "code",
   "execution_count": 7,
   "id": "39ce3fb6",
   "metadata": {},
   "outputs": [
    {
     "data": {
      "text/plain": [
       "Index(['ORDER_WEEK', 'MARKETING_CHANNEL', 'NEW_CUSTOMER', 'ORDERS', 'REVENUE',\n",
       "       'MARKETING_COST', 'MARGIN', 'VISITS', 'year', 'week_number',\n",
       "       'year_week'],\n",
       "      dtype='object')"
      ]
     },
     "execution_count": 7,
     "metadata": {},
     "output_type": "execute_result"
    }
   ],
   "source": [
    "df.columns"
   ]
  },
  {
   "cell_type": "code",
   "execution_count": 8,
   "id": "5af4110d",
   "metadata": {},
   "outputs": [],
   "source": [
    "# import to csv\n",
    "df.to_csv('flaconi_test_pre_handling.csv')"
   ]
  },
  {
   "cell_type": "code",
   "execution_count": null,
   "id": "0e140ea6",
   "metadata": {},
   "outputs": [],
   "source": []
  }
 ],
 "metadata": {
  "kernelspec": {
   "display_name": "Python 3",
   "language": "python",
   "name": "python3"
  },
  "language_info": {
   "codemirror_mode": {
    "name": "ipython",
    "version": 3
   },
   "file_extension": ".py",
   "mimetype": "text/x-python",
   "name": "python",
   "nbconvert_exporter": "python",
   "pygments_lexer": "ipython3",
   "version": "3.8.8"
  }
 },
 "nbformat": 4,
 "nbformat_minor": 5
}
